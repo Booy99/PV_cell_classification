{
 "cells": [
  {
   "cell_type": "code",
   "execution_count": 28,
   "id": "41634e2b-f342-4e41-a420-cb2343d3b6dc",
   "metadata": {},
   "outputs": [
    {
     "name": "stdout",
     "output_type": "stream",
     "text": [
      "                    image  value  type\n",
      "0     images/cell0001.png    1.0  mono\n",
      "1     images/cell0002.png    1.0  mono\n",
      "2     images/cell0003.png    1.0  mono\n",
      "3     images/cell0004.png    0.0  mono\n",
      "4     images/cell0005.png    1.0  mono\n",
      "...                   ...    ...   ...\n",
      "2619  images/cell2620.png    0.0  poly\n",
      "2620  images/cell2621.png    0.0  poly\n",
      "2621  images/cell2622.png    0.0  poly\n",
      "2622  images/cell2623.png    0.0  poly\n",
      "2623  images/cell2624.png    0.0  poly\n",
      "\n",
      "[2624 rows x 3 columns]\n",
      "(2624, 3)\n"
     ]
    }
   ],
   "source": [
    "\"\"\"This is to split the data into train and test sets, respectively\"\"\"\n",
    "\n",
    "import numpy as np\n",
    "import pandas as pd\n",
    "import matplotlib.pyplot as plt\n",
    "import os\n",
    "import shutil\n",
    "\n",
    "labels = pd.read_csv(\"labels.csv\", header = None, delim_whitespace=True, names = [\"image\", \"value\", \"type\"])\n",
    "\n",
    "print(labels)\n",
    "print(labels.shape)"
   ]
  },
  {
   "cell_type": "code",
   "execution_count": 30,
   "id": "819dc81d-35f0-448a-9fcb-57a24d079994",
   "metadata": {},
   "outputs": [
    {
     "name": "stdout",
     "output_type": "stream",
     "text": [
      "                    image  value  type\n",
      "0     images/cell0001.png    1.0  mono\n",
      "1     images/cell0002.png    1.0  mono\n",
      "2     images/cell0003.png    1.0  mono\n",
      "3     images/cell0004.png    0.0  mono\n",
      "4     images/cell0005.png    1.0  mono\n",
      "...                   ...    ...   ...\n",
      "2619  images/cell2620.png    0.0  poly\n",
      "2620  images/cell2621.png    0.0  poly\n",
      "2621  images/cell2622.png    0.0  poly\n",
      "2622  images/cell2623.png    0.0  poly\n",
      "2623  images/cell2624.png    0.0  poly\n",
      "\n",
      "[2624 rows x 3 columns]\n"
     ]
    }
   ],
   "source": [
    "\"\"\"Make binary classification and assign 0.3 to 0.0 and assign 0.6 to 1.0\"\"\"\n",
    "\n",
    "labels_binary = labels.copy(deep=True)\n",
    "print(labels_binary)\n",
    "\n",
    "for row in range(len(labels_binary)):\n",
    "    if labels_binary.iloc[row]['value'] == 0.3333333333333333:\n",
    "        labels_binary.at[row, 'value'] = 0.0\n",
    "    elif labels_binary.iloc[row]['value'] == 0.6666666666666666:\n",
    "        labels_binary.at[row, 'value'] = 1.0\n"
   ]
  },
  {
   "cell_type": "code",
   "execution_count": 31,
   "id": "82540dcc-0698-4fe6-9652-e3f29c7e651b",
   "metadata": {},
   "outputs": [
    {
     "name": "stdout",
     "output_type": "stream",
     "text": [
      "                    image  value  type\n",
      "448   images/cell0449.png    0.0  mono\n",
      "1157  images/cell1158.png    0.0  mono\n",
      "2170  images/cell2171.png    0.0  mono\n",
      "2211  images/cell2212.png    0.0  mono\n",
      "1205  images/cell1206.png    0.0  mono\n",
      "...                   ...    ...   ...\n",
      "833   images/cell0834.png    1.0  poly\n",
      "2073  images/cell2074.png    1.0  poly\n",
      "1841  images/cell1842.png    1.0  poly\n",
      "643   images/cell0644.png    1.0  poly\n",
      "790   images/cell0791.png    1.0  poly\n",
      "\n",
      "[1969 rows x 3 columns]\n"
     ]
    }
   ],
   "source": [
    "\"\"\" stratified sampling \"\"\"\n",
    "\n",
    "train_set = labels_binary.groupby(['type', 'value'], group_keys=False).apply(lambda x: x.sample(frac=0.75))\n",
    "# The frac = 0.75 is because we want to sample 75%\n",
    "\n",
    "print(train_set)"
   ]
  },
  {
   "cell_type": "code",
   "execution_count": 32,
   "id": "8c4c2b81-8db7-47ae-a4c2-47ba47ffc9d2",
   "metadata": {},
   "outputs": [
    {
     "name": "stdout",
     "output_type": "stream",
     "text": [
      "                   image  value  type\n",
      "0    images/cell0002.png    1.0  mono\n",
      "1    images/cell0004.png    0.0  mono\n",
      "2    images/cell0006.png    1.0  mono\n",
      "3    images/cell0009.png    0.0  mono\n",
      "4    images/cell0010.png    1.0  mono\n",
      "..                   ...    ...   ...\n",
      "650  images/cell2611.png    0.0  poly\n",
      "651  images/cell2612.png    0.0  poly\n",
      "652  images/cell2617.png    0.0  poly\n",
      "653  images/cell2619.png    0.0  poly\n",
      "654  images/cell2624.png    0.0  poly\n",
      "\n",
      "[655 rows x 3 columns]\n"
     ]
    }
   ],
   "source": [
    "\"\"\" create a pandas dataframe for the test_set \"\"\"\n",
    "\n",
    "test_set = pd.DataFrame(columns = [\"image\", \"value\", \"type\"])\n",
    "#print(test_set)\n",
    "count = 0\n",
    "for row in range(len(labels_binary)):\n",
    "    image = str(labels_binary.iloc[row]['image'])\n",
    "    if image not in train_set['image'].unique():\n",
    "        count +=1\n",
    "        test_set.loc[len(test_set.index)] = [labels_binary.iloc[row]['image'],\n",
    "                                            labels_binary.iloc[row]['value'],\n",
    "                                            labels_binary.iloc[row]['type']]\n",
    "print(test_set)"
   ]
  },
  {
   "cell_type": "code",
   "execution_count": 33,
   "id": "138d285f-d8cd-4ee5-a69c-72c6caeaddcb",
   "metadata": {},
   "outputs": [],
   "source": [
    "\"\"\"ensure train and test folders are empty\"\"\"\n",
    "\n",
    "test_def_dir = 'data/test/defective'\n",
    "test_func_dir = 'data/test/functional'\n",
    "\n",
    "train_def_dir = 'data/train/defective'\n",
    "train_func_dir = 'data/train/functional'\n",
    "\n",
    "if os.listdir(test_def_dir): # True if list is not empty\n",
    "    for f in os.listdir(test_def_dir):\n",
    "        os.remove(test_def_dir + '/' + f)\n",
    "\n",
    "if os.listdir(test_func_dir):\n",
    "    for f in os.listdir(test_func_dir):\n",
    "        os.remove(test_func_dir + '/' + f)\n",
    "\n",
    "if os.listdir(train_def_dir):\n",
    "    for f in os.listdir(train_def_dir):\n",
    "        os.remove(train_def_dir + '/' + f)\n",
    "\n",
    "if os.listdir(train_func_dir):\n",
    "    for f in os.listdir(train_func_dir):\n",
    "        os.remove(train_func_dir + '/' + f)"
   ]
  },
  {
   "cell_type": "code",
   "execution_count": 34,
   "id": "0aa80c4a-8c29-4c24-bddc-135170ff40c6",
   "metadata": {},
   "outputs": [],
   "source": [
    "\"\"\" copy images to the respective folders \"\"\"\n",
    "\n",
    "src = './data/all_data'\n",
    "\n",
    "for line in range(len(train_set)):\n",
    "    source = src + '/' + str(train_set.iloc[line]['image'])[7:]\n",
    "    if train_set.iloc[line]['value'] == 1.0:\n",
    "        shutil.copy(source, train_def_dir)\n",
    "    elif train_set.iloc[line]['value'] == 0.0:\n",
    "        shutil.copy(source, train_func_dir)\n",
    "\n",
    "for line in range(len(test_set)):\n",
    "    source = src + '/' + str(test_set.iloc[line]['image'])[7:]\n",
    "    if test_set.iloc[line]['value'] == 1.0:\n",
    "        shutil.copy(source, test_def_dir)\n",
    "    elif test_set.iloc[line]['value'] == 0.0:\n",
    "        shutil.copy(source, test_func_dir)"
   ]
  },
  {
   "cell_type": "code",
   "execution_count": 35,
   "id": "844bd7ed-1685-45ad-83ca-16280ea4c9bb",
   "metadata": {},
   "outputs": [
    {
     "name": "stdout",
     "output_type": "stream",
     "text": [
      "1353\n",
      "616\n",
      "205\n",
      "450\n",
      "total:  2624\n"
     ]
    }
   ],
   "source": [
    "print(len(os.listdir(train_func_dir)))\n",
    "print(len(os.listdir(train_def_dir)))\n",
    "\n",
    "print(len(os.listdir(test_def_dir)))\n",
    "print(len(os.listdir(test_func_dir)))\n",
    "\n",
    "total = len(os.listdir(train_func_dir)) + len(os.listdir(train_def_dir))+ len(os.listdir(test_def_dir)) + len(os.listdir(test_func_dir))\n",
    "\n",
    "print(\"total: \", total)"
   ]
  },
  {
   "cell_type": "code",
   "execution_count": null,
   "id": "551622ba-98e8-40fd-8824-8bd4f07bec90",
   "metadata": {},
   "outputs": [],
   "source": [
    "\"\"\" count the numbers of each group after stratified sampling \"\"\"\n",
    "\n",
    "count_1_mono = 0\n",
    "count_1_poly = 0\n",
    "\n",
    "count_0_mono = 0\n",
    "count_0_poly = 0\n",
    "\n",
    "for row in range(group1.shape[0]):\n",
    "    if group1.iloc[row][\"value\"] == 1.0:\n",
    "        if group1.iloc[row][\"type\"] == \"mono\":\n",
    "            count_1_mono += 1\n",
    "        else:\n",
    "            count_1_poly += 1\n",
    "    elif group1.iloc[row][\"value\"] == 0.0:\n",
    "        if group1.iloc[row][\"type\"] == \"mono\":\n",
    "            count_0_mono += 1\n",
    "        else:\n",
    "            count_0_poly += 1\n",
    "\n",
    "print(\"count_0_poly: \", count_0_poly)\n",
    "print(\"count_0_mono: \", count_0_mono)\n",
    "print(\"count_1_poly: \", count_1_poly)\n",
    "print(\"count_1_mono: \", count_1_mono, '\\n')\n",
    "print(\"total: \", count_0_poly+count_0_mono+count_1_poly+count_1_mono)"
   ]
  },
  {
   "cell_type": "code",
   "execution_count": 9,
   "id": "e726db6e-7ce3-4967-a96d-76cd2e1b7553",
   "metadata": {},
   "outputs": [
    {
     "name": "stdout",
     "output_type": "stream",
     "text": [
      "count_0_poly_pre:  1098\n",
      "count_0_mono_pre:  705\n",
      "count_1_poly_pre:  452\n",
      "count_1_mono_pre:  369 \n",
      "\n",
      "total:  2624\n"
     ]
    }
   ],
   "source": [
    "\"\"\" count the number of each group before stratified sampling to validate that the stratification went well\"\"\"\n",
    "\n",
    "count_1_mono_pre = 0\n",
    "count_1_poly_pre = 0\n",
    "\n",
    "count_0_mono_pre = 0\n",
    "count_0_poly_pre = 0\n",
    "\n",
    "for row in range(labels_binary.shape[0]):\n",
    "    if labels_binary.iloc[row][\"value\"] == 1.0:\n",
    "        if labels_binary.iloc[row][\"type\"] == \"mono\":\n",
    "            count_1_mono_pre += 1\n",
    "        else:\n",
    "            count_1_poly_pre += 1\n",
    "    elif labels_binary.iloc[row][\"value\"] == 0.0:\n",
    "        if labels_binary.iloc[row][\"type\"] == \"mono\":\n",
    "            count_0_mono_pre += 1\n",
    "        else:\n",
    "            count_0_poly_pre += 1\n",
    "\n",
    "print(\"count_0_poly_pre: \", count_0_poly_pre)\n",
    "print(\"count_0_mono_pre: \", count_0_mono_pre)\n",
    "print(\"count_1_poly_pre: \", count_1_poly_pre)\n",
    "print(\"count_1_mono_pre: \", count_1_mono_pre, '\\n')\n",
    "print(\"total: \", count_0_poly_pre+count_0_mono_pre+count_1_poly_pre+count_1_mono_pre)"
   ]
  },
  {
   "cell_type": "code",
   "execution_count": 14,
   "id": "f882b7d7-348f-4153-9f22-5c302149c69a",
   "metadata": {},
   "outputs": [],
   "source": [
    "\"\"\" Stratified sampling for all labels, not converted to 0.0 and 1.0 \"\"\"\n",
    "\n",
    "group2 = labels.groupby(['type', 'value'], group_keys=False).apply(lambda x: x.sample(frac=0.75))"
   ]
  },
  {
   "cell_type": "code",
   "execution_count": 15,
   "id": "dec32741-7d8f-4349-83b9-f36ecab666a4",
   "metadata": {},
   "outputs": [
    {
     "name": "stdout",
     "output_type": "stream",
     "text": [
      "count_1_mono : 235\n",
      "count_1_poly:  302\n",
      "count_0_mono:  441\n",
      "count_0_poly:  690\n",
      "count_03_mono:  88\n",
      "count_03_poly:  134\n",
      "count_06_mono:  42\n",
      "count_06_poly:  38\n"
     ]
    }
   ],
   "source": [
    "\"\"\" getting the counts of each class in the group2 stratified sample \"\"\"\n",
    "\n",
    "count_1_mono = 0\n",
    "count_1_poly = 0\n",
    "\n",
    "count_0_mono = 0\n",
    "count_0_poly = 0\n",
    "\n",
    "count_03_mono = 0\n",
    "count_03_poly = 0\n",
    "\n",
    "count_06_mono = 0\n",
    "count_06_poly = 0\n",
    "\n",
    "for row in range(group2.shape[0]):\n",
    "    if group2.iloc[row][\"value\"] == 1.0:\n",
    "        if group2.iloc[row][\"type\"] == \"mono\":\n",
    "            count_1_mono += 1\n",
    "        else:\n",
    "            count_1_poly += 1\n",
    "    elif group2.iloc[row][\"value\"] == 0.0:\n",
    "        if group2.iloc[row][\"type\"] == \"mono\":\n",
    "            count_0_mono += 1\n",
    "        else:\n",
    "            count_0_poly += 1\n",
    "    elif group2.iloc[row][\"value\"] == 0.3333333333333333:\n",
    "        if group2.iloc[row][\"type\"] == \"mono\":\n",
    "            count_03_mono += 1\n",
    "        else:\n",
    "            count_03_poly += 1\n",
    "    else:\n",
    "        if group2.iloc[row][\"type\"] == \"mono\":\n",
    "            count_06_mono += 1\n",
    "        else:\n",
    "            count_06_poly += 1\n",
    "\n",
    "print(\"count_1_mono :\", count_1_mono)\n",
    "print(\"count_1_poly: \", count_1_poly)\n",
    "\n",
    "print(\"count_0_mono: \", count_0_mono)\n",
    "print(\"count_0_poly: \", count_0_poly)\n",
    "\n",
    "print(\"count_03_mono: \", count_03_mono)\n",
    "print(\"count_03_poly: \", count_03_poly)\n",
    "\n",
    "print(\"count_06_mono: \", count_06_mono)\n",
    "print(\"count_06_poly: \", count_06_poly)"
   ]
  },
  {
   "cell_type": "code",
   "execution_count": null,
   "id": "a5d56adc-f23e-401c-aa28-2bb5053cc5d2",
   "metadata": {},
   "outputs": [],
   "source": []
  }
 ],
 "metadata": {
  "kernelspec": {
   "display_name": "Python 3 (ipykernel)",
   "language": "python",
   "name": "python3"
  },
  "language_info": {
   "codemirror_mode": {
    "name": "ipython",
    "version": 3
   },
   "file_extension": ".py",
   "mimetype": "text/x-python",
   "name": "python",
   "nbconvert_exporter": "python",
   "pygments_lexer": "ipython3",
   "version": "3.10.0"
  }
 },
 "nbformat": 4,
 "nbformat_minor": 5
}
